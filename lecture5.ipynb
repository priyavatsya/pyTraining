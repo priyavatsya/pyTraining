{
 "cells": [
  {
   "cell_type": "code",
   "execution_count": 51,
   "metadata": {},
   "outputs": [],
   "source": [
    "#print the series\n",
    "def Series(n):\n",
    "    pass\n",
    "        \n",
    "# 0 1 2 3 4 3 2 1 0"
   ]
  },
  {
   "cell_type": "code",
   "execution_count": 52,
   "metadata": {},
   "outputs": [
    {
     "name": "stdout",
     "output_type": "stream",
     "text": [
      "started\n",
      "display started\n",
      "display ended\n",
      "inner started\n",
      "sample has started\n",
      "10 20\n",
      "sample ended\n",
      "inner ended\n",
      "ended\n"
     ]
    }
   ],
   "source": [
    "#previous day continuation // nested function practice\n",
    "print(\"started\")\n",
    "\n",
    "def display(abc):\n",
    "    print(\"display started\")\n",
    "    def inner(a,b):\n",
    "        print(\"inner started\")\n",
    "        abc(a,b)\n",
    "        print(\"inner ended\")\n",
    "    print(\"display ended\")\n",
    "    return inner\n",
    "\n",
    "def sample(a,b):\n",
    "    print(\"sample has started\")\n",
    "    print(a,b)\n",
    "    print(\"sample ended\")\n",
    "    \n",
    "a = display(sample)\n",
    "a(10,20)\n",
    "\n",
    "print(\"ended\")"
   ]
  },
  {
   "cell_type": "code",
   "execution_count": 53,
   "metadata": {},
   "outputs": [
    {
     "name": "stdout",
     "output_type": "stream",
     "text": [
      "started\n",
      "display started\n",
      "display ended\n",
      "inner started\n",
      "sample has started\n",
      "10 20\n",
      "sample ended\n",
      "inner ended\n",
      "ended\n"
     ]
    }
   ],
   "source": [
    "#previous day continuation // nested function practice\n",
    "print(\"started\")\n",
    "\n",
    "def display(abc):\n",
    "    print(\"display started\")\n",
    "    def inner(a,b):\n",
    "        print(\"inner started\")\n",
    "        abc(a,b)\n",
    "        print(\"inner ended\")\n",
    "    print(\"display ended\")\n",
    "    return inner\n",
    "\n",
    "# a = display(sample)\n",
    "# a(10,20)\n",
    "\n",
    "@display\n",
    "def sample(a,b):\n",
    "    print(\"sample has started\")\n",
    "    print(a,b)\n",
    "    print(\"sample ended\")\n",
    "\n",
    "#sample = inner it will make\n",
    "sample(10,20)\n",
    "\n",
    "print(\"ended\")"
   ]
  },
  {
   "cell_type": "code",
   "execution_count": 54,
   "metadata": {},
   "outputs": [
    {
     "name": "stdout",
     "output_type": "stream",
     "text": [
      "test1 start\n",
      "test1inner started\n",
      "test2 started\n",
      "100\n",
      "test2 ended\n",
      "test1inner ended\n"
     ]
    }
   ],
   "source": [
    "def test1(a):\n",
    "    print(\"test1 start\")\n",
    "    def test1inner(abc):\n",
    "        print(\"test1inner started\")\n",
    "        a(abc)\n",
    "        print(\"test1inner ended\")\n",
    "        \n",
    "    return test1inner\n",
    "\n",
    "@test1\n",
    "def test2(b):\n",
    "    print(\"test2 started\")\n",
    "    print(b)\n",
    "    print(\"test2 ended\")\n",
    "    \n",
    "test2(100)\n",
    "    "
   ]
  },
  {
   "cell_type": "markdown",
   "metadata": {},
   "source": [
    "# Class"
   ]
  },
  {
   "cell_type": "markdown",
   "metadata": {},
   "source": [
    " classes is nothing but making of user defined data type \n",
    "\n",
    " class is an user defined data type which can have attributes and can process/have methods\n",
    "\n",
    " or class is an blueprint of a real world object it defines states of behaviour of an object\n",
    " \n",
    " in python class will occupy a memory and it will store in the form of key and value pair"
   ]
  },
  {
   "cell_type": "code",
   "execution_count": 55,
   "metadata": {},
   "outputs": [],
   "source": [
    "class Student:\n",
    "    id = 123\n",
    "    name = \"Nazria\"\n",
    "    marks = 99.99"
   ]
  },
  {
   "cell_type": "code",
   "execution_count": 56,
   "metadata": {},
   "outputs": [],
   "source": [
    "Student.ss = 8000"
   ]
  },
  {
   "cell_type": "code",
   "execution_count": 57,
   "metadata": {},
   "outputs": [
    {
     "data": {
      "text/plain": [
       "'Nazria'"
      ]
     },
     "execution_count": 57,
     "metadata": {},
     "output_type": "execute_result"
    }
   ],
   "source": [
    "Student.name"
   ]
  },
  {
   "cell_type": "code",
   "execution_count": 58,
   "metadata": {},
   "outputs": [],
   "source": [
    "delattr(Student,\"id\")"
   ]
  },
  {
   "cell_type": "code",
   "execution_count": null,
   "metadata": {},
   "outputs": [],
   "source": [
    "Student.id"
   ]
  },
  {
   "cell_type": "code",
   "execution_count": 60,
   "metadata": {},
   "outputs": [],
   "source": [
    "class Employee(object):\n",
    "    pass\n",
    "    \n",
    "class Account(object):\n",
    "    pass\n",
    "    "
   ]
  },
  {
   "cell_type": "markdown",
   "metadata": {},
   "source": [
    "# Object"
   ]
  },
  {
   "cell_type": "markdown",
   "metadata": {},
   "source": [
    "object is the instance of a class\n",
    "object is a real time data a copy of class will be created when we create an object\n",
    "object will occupy a memory and it will be stored in the form of key value pair\n",
    "\n",
    "Syntax for making an object: a = A()"
   ]
  },
  {
   "cell_type": "code",
   "execution_count": 61,
   "metadata": {},
   "outputs": [
    {
     "data": {
      "text/plain": [
       "'Nazria'"
      ]
     },
     "execution_count": 61,
     "metadata": {},
     "output_type": "execute_result"
    }
   ],
   "source": [
    "stud1 = Student()\n",
    "stud1.name"
   ]
  },
  {
   "cell_type": "code",
   "execution_count": 62,
   "metadata": {},
   "outputs": [
    {
     "data": {
      "text/plain": [
       "500"
      ]
     },
     "execution_count": 62,
     "metadata": {},
     "output_type": "execute_result"
    }
   ],
   "source": [
    "stud1.d = 500\n",
    "stud1.d"
   ]
  },
  {
   "cell_type": "code",
   "execution_count": 1,
   "metadata": {},
   "outputs": [],
   "source": [
    "class A(object):\n",
    "    a = 1\n",
    "    b = 2\n",
    "    "
   ]
  },
  {
   "cell_type": "code",
   "execution_count": 2,
   "metadata": {},
   "outputs": [],
   "source": [
    "a = A()\n",
    "a.a = 111"
   ]
  },
  {
   "cell_type": "code",
   "execution_count": 3,
   "metadata": {},
   "outputs": [
    {
     "data": {
      "text/plain": [
       "222"
      ]
     },
     "execution_count": 3,
     "metadata": {},
     "output_type": "execute_result"
    }
   ],
   "source": [
    "A.a = 222\n",
    "A.a"
   ]
  },
  {
   "cell_type": "code",
   "execution_count": 4,
   "metadata": {},
   "outputs": [
    {
     "data": {
      "text/plain": [
       "111"
      ]
     },
     "execution_count": 4,
     "metadata": {},
     "output_type": "execute_result"
    }
   ],
   "source": [
    "a.a"
   ]
  },
  {
   "cell_type": "code",
   "execution_count": 5,
   "metadata": {},
   "outputs": [],
   "source": [
    "# ///"
   ]
  },
  {
   "cell_type": "code",
   "execution_count": 6,
   "metadata": {},
   "outputs": [],
   "source": [
    "var  = a"
   ]
  },
  {
   "cell_type": "code",
   "execution_count": 7,
   "metadata": {},
   "outputs": [
    {
     "data": {
      "text/plain": [
       "111"
      ]
     },
     "execution_count": 7,
     "metadata": {},
     "output_type": "execute_result"
    }
   ],
   "source": [
    "var.a"
   ]
  },
  {
   "cell_type": "markdown",
   "metadata": {},
   "source": [
    "We can write a function inside a class and will call it as a method\n",
    "these methods can be of three types:\n",
    "\n",
    "1. Instance method or object method\n",
    "2. class method\n",
    "3. Static method\n",
    "\n",
    "> Sending an object address to a method is called as instance method\n",
    "\n",
    "> Sending an class address to a method is called as class method\n",
    "\n",
    "> Send None of these is the Static method"
   ]
  },
  {
   "cell_type": "code",
   "execution_count": 20,
   "metadata": {},
   "outputs": [],
   "source": [
    "class A:\n",
    "    a = 10\n",
    "    b = 20\n",
    "    \n",
    "    @staticmethod\n",
    "    def m1():\n",
    "        print(\"hello\")\n",
    "        \n",
    "    def m2(addrobj):\n",
    "        print(\"object\")\n",
    "    \n",
    "    @classmethod\n",
    "    def m3(addrclass):\n",
    "        print(\"class\")"
   ]
  },
  {
   "cell_type": "markdown",
   "metadata": {},
   "source": [
    "NOTE: due to python version difference its cumpulsary to have minimum of one arguement\n",
    " in an instance method or the class method\n",
    " if we need to send any other arguements for instance method or an static method\n",
    " first variable will be declared to store the address and then continue with rest of the args."
   ]
  },
  {
   "cell_type": "code",
   "execution_count": 22,
   "metadata": {},
   "outputs": [],
   "source": [
    "obj = A()"
   ]
  },
  {
   "cell_type": "code",
   "execution_count": 23,
   "metadata": {},
   "outputs": [
    {
     "name": "stdout",
     "output_type": "stream",
     "text": [
      "hello\n"
     ]
    }
   ],
   "source": [
    "obj.m1()"
   ]
  },
  {
   "cell_type": "code",
   "execution_count": 24,
   "metadata": {},
   "outputs": [
    {
     "name": "stdout",
     "output_type": "stream",
     "text": [
      "object\n"
     ]
    }
   ],
   "source": [
    "obj.m2()"
   ]
  },
  {
   "cell_type": "code",
   "execution_count": 25,
   "metadata": {},
   "outputs": [
    {
     "name": "stdout",
     "output_type": "stream",
     "text": [
      "class\n"
     ]
    }
   ],
   "source": [
    "obj.m3()"
   ]
  },
  {
   "cell_type": "code",
   "execution_count": 53,
   "metadata": {},
   "outputs": [],
   "source": [
    "#Example for static,object,class methods"
   ]
  },
  {
   "cell_type": "code",
   "execution_count": 100,
   "metadata": {},
   "outputs": [],
   "source": [
    "class Operations:\n",
    "   \n",
    "    @staticmethod\n",
    "    def add(a,b):\n",
    "        print(a+b)\n",
    "        \n",
    "    def sub(addr,a,b):        \n",
    "        addr.sub = a-b\n",
    "        \n",
    "    @classmethod    \n",
    "    def mul(addr,a,b):\n",
    "        addr.mul = a*b"
   ]
  },
  {
   "cell_type": "code",
   "execution_count": 101,
   "metadata": {},
   "outputs": [],
   "source": [
    "op = Operations()"
   ]
  },
  {
   "cell_type": "code",
   "execution_count": 102,
   "metadata": {},
   "outputs": [
    {
     "name": "stdout",
     "output_type": "stream",
     "text": [
      "3\n"
     ]
    }
   ],
   "source": [
    "op.add(1,2)"
   ]
  },
  {
   "cell_type": "code",
   "execution_count": 103,
   "metadata": {},
   "outputs": [
    {
     "data": {
      "text/plain": [
       "3"
      ]
     },
     "execution_count": 103,
     "metadata": {},
     "output_type": "execute_result"
    }
   ],
   "source": [
    "op.sub(4,1)\n",
    "op.sub"
   ]
  },
  {
   "cell_type": "code",
   "execution_count": 104,
   "metadata": {},
   "outputs": [
    {
     "data": {
      "text/plain": [
       "18"
      ]
     },
     "execution_count": 104,
     "metadata": {},
     "output_type": "execute_result"
    }
   ],
   "source": [
    "op.mul(2,9)\n",
    "Operations.mul"
   ]
  },
  {
   "cell_type": "code",
   "execution_count": 1,
   "metadata": {},
   "outputs": [
    {
     "name": "stdout",
     "output_type": "stream",
     "text": [
      "Hello 'foo' and foo\n"
     ]
    }
   ],
   "source": [
    "print(\"Hello {0!r} and {0!s}\".format('foo', 'bin'))\n"
   ]
  },
  {
   "cell_type": "code",
   "execution_count": 10,
   "metadata": {},
   "outputs": [
    {
     "name": "stdout",
     "output_type": "stream",
     "text": [
      "Hello ('foo', 'bin') and ('foo', 'bin')\n"
     ]
    }
   ],
   "source": [
    "print(\"Hello {0} and {0}\".format(('foo', 'bin')))"
   ]
  },
  {
   "cell_type": "code",
   "execution_count": 3,
   "metadata": {},
   "outputs": [
    {
     "name": "stdout",
     "output_type": "stream",
     "text": [
      "17\n"
     ]
    }
   ],
   "source": [
    "def test(i,j):\n",
    "    if(i==0):\n",
    "        return j\n",
    "    else:\n",
    "        return test(i-1,i+j)\n",
    "print(test(4,7))"
   ]
  },
  {
   "cell_type": "code",
   "execution_count": 4,
   "metadata": {},
   "outputs": [
    {
     "name": "stdout",
     "output_type": "stream",
     "text": [
      "110"
     ]
    }
   ],
   "source": [
    "l=[]\n",
    "def convert(b):\n",
    "    if(b==0):\n",
    "        return l\n",
    "    dig=b%2\n",
    "    l.append(dig)\n",
    "    convert(b//2)\n",
    "convert(6)\n",
    "l.reverse()\n",
    "for i in l:\n",
    "    print(i,end=\"\")"
   ]
  },
  {
   "cell_type": "code",
   "execution_count": 6,
   "metadata": {},
   "outputs": [
    {
     "name": "stdout",
     "output_type": "stream",
     "text": [
      "10\n",
      "test\n",
      "11\n"
     ]
    }
   ],
   "source": [
    "def f(x):\n",
    "\n",
    "    yield x+1\n",
    "\n",
    "    print(\"test\")\n",
    "\n",
    "    yield x+2\n",
    "\n",
    "for i in f(9):\n",
    "    print(i)"
   ]
  },
  {
   "cell_type": "code",
   "execution_count": 24,
   "metadata": {},
   "outputs": [
    {
     "name": "stdout",
     "output_type": "stream",
     "text": [
      "cute\n"
     ]
    }
   ],
   "source": [
    "a = \"programming\"\n",
    "b = list(\"computer\")\n",
    "\n",
    "for letter in a:\n",
    "    if letter in b:\n",
    "        b.pop(b.index(letter))\n",
    "print(\"\".join(b))\n",
    " "
   ]
  }
 ],
 "metadata": {
  "kernelspec": {
   "display_name": "Python 3",
   "language": "python",
   "name": "python3"
  },
  "language_info": {
   "codemirror_mode": {
    "name": "ipython",
    "version": 3
   },
   "file_extension": ".py",
   "mimetype": "text/x-python",
   "name": "python",
   "nbconvert_exporter": "python",
   "pygments_lexer": "ipython3",
   "version": "3.7.4"
  }
 },
 "nbformat": 4,
 "nbformat_minor": 2
}
