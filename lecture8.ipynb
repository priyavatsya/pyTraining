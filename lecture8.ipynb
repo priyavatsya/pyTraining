{
 "cells": [
  {
   "cell_type": "code",
   "execution_count": 21,
   "metadata": {},
   "outputs": [
    {
     "name": "stdout",
     "output_type": "stream",
     "text": [
      "How are you?How are you?How are you?\n"
     ]
    }
   ],
   "source": [
    "file = open(\"hello.txt\",'r')\n",
    "a = file.read()\n",
    "file.close()\n",
    "\n",
    "print(a)"
   ]
  },
  {
   "cell_type": "code",
   "execution_count": 22,
   "metadata": {},
   "outputs": [],
   "source": [
    "data = \"hello\"\n",
    "file = open(\"a1.txt\",'wb')\n",
    "file.write(data.encode(\"utf-8\"))\n",
    "file.close()"
   ]
  },
  {
   "cell_type": "code",
   "execution_count": 23,
   "metadata": {},
   "outputs": [
    {
     "name": "stdout",
     "output_type": "stream",
     "text": [
      "hello\n"
     ]
    }
   ],
   "source": [
    "file = open(\"a1.txt\",'rb')\n",
    "a = file.read()\n",
    "print(a.decode('utf-8'))\n",
    "file.close()"
   ]
  },
  {
   "cell_type": "code",
   "execution_count": 43,
   "metadata": {},
   "outputs": [
    {
     "name": "stdout",
     "output_type": "stream",
     "text": [
      "2\n",
      "derfr wferwfrwe wefwefewf\n",
      "wefewfw wefwefewf wefewfwe\n",
      "|     d e r f r     |     w f e r w f r w e     |     w e f w e f e w f     | \n",
      " |     w e f e w f w     |     w e f w e f e w f     |     w e f e w f w e     | \n",
      " "
     ]
    }
   ],
   "source": [
    "n = int(input())\n",
    "data = []\n",
    "for i in range(n):\n",
    "    entry = list(map(str,input().split()))\n",
    "    data.append(entry)\n",
    "\n",
    "file = open(\"items.txt\",\"a\")\n",
    "for i in data:\n",
    "    file.write(f\"|  {i[0]}  |  {i[1]}  |  {i[2]}  |\\n\")\n",
    "file.close()\n",
    "\n",
    "file = open(\"items.txt\",'r')\n",
    "f = file.read()\n",
    "for entry in f:\n",
    "    print(entry,end=\" \")\n",
    "file.close()\n"
   ]
  },
  {
   "cell_type": "code",
   "execution_count": 44,
   "metadata": {},
   "outputs": [],
   "source": [
    "#JSON"
   ]
  },
  {
   "cell_type": "code",
   "execution_count": 45,
   "metadata": {},
   "outputs": [],
   "source": [
    "import json"
   ]
  },
  {
   "cell_type": "code",
   "execution_count": 46,
   "metadata": {},
   "outputs": [
    {
     "data": {
      "text/plain": [
       "'{\"1\": 111, \"2\": 222, \"3\": 333}'"
      ]
     },
     "execution_count": 46,
     "metadata": {},
     "output_type": "execute_result"
    }
   ],
   "source": [
    "b = {1:111,2:222,3:333}\n",
    "b = json.dumps(b)\n",
    "b"
   ]
  },
  {
   "cell_type": "code",
   "execution_count": 47,
   "metadata": {},
   "outputs": [
    {
     "data": {
      "text/plain": [
       "{'1': 111, '2': 222, '3': 333}"
      ]
     },
     "execution_count": 47,
     "metadata": {},
     "output_type": "execute_result"
    }
   ],
   "source": [
    "json.loads(b)"
   ]
  },
  {
   "cell_type": "code",
   "execution_count": 48,
   "metadata": {},
   "outputs": [],
   "source": [
    "#Data Structure"
   ]
  },
  {
   "cell_type": "code",
   "execution_count": 64,
   "metadata": {},
   "outputs": [
    {
     "name": "stdout",
     "output_type": "stream",
     "text": [
      "cute\n"
     ]
    }
   ],
   "source": [
    "#1\n",
    "a = \"program\"\n",
    "b = list(\"computer\")\n",
    "\n",
    "for letter in a:\n",
    "    if letter in b:\n",
    "        b.pop(b.index(letter))\n",
    "print(\"\".join(b))\n",
    "        "
   ]
  },
  {
   "cell_type": "code",
   "execution_count": 76,
   "metadata": {},
   "outputs": [
    {
     "name": "stdout",
     "output_type": "stream",
     "text": [
      " comutercomputecmputercomputercomputecomputercoputer\n"
     ]
    }
   ],
   "source": [
    "#2\n",
    "a = \"program\"\n",
    "b = \"computer\"\n",
    "c = \" \"\n",
    "\n",
    "for i in a:\n",
    "    for j in b:\n",
    "        if j != i:\n",
    "            c += j\n",
    "            \n",
    "            \n",
    "print(c)\n",
    "            \n",
    "            "
   ]
  },
  {
   "cell_type": "code",
   "execution_count": 77,
   "metadata": {},
   "outputs": [],
   "source": [
    "#Data Structures"
   ]
  },
  {
   "cell_type": "code",
   "execution_count": 1,
   "metadata": {},
   "outputs": [],
   "source": [
    "class Node:\n",
    "    def __init__(self,data):\n",
    "        self.data = data\n",
    "        self.next = None\n",
    "        \n",
    "class LL:\n",
    "    root = None\n",
    "    cur = None\n",
    "    \n",
    "    def append(self,data):\n",
    "        obj = Node(data)\n",
    "        if root == None:\n",
    "            root = obj\n",
    "            cur = obj\n",
    "            return\n",
    "        cur.next = obj\n",
    "        cur = obj"
   ]
  },
  {
   "cell_type": "code",
   "execution_count": 12,
   "metadata": {},
   "outputs": [
    {
     "name": "stdout",
     "output_type": "stream",
     "text": [
      "100\n"
     ]
    }
   ],
   "source": [
    "def fun(n):\n",
    "    if (n > 100):\n",
    "        return n - 5\n",
    "    return fun(fun(n+11));\n",
    " \n",
    "print(fun(45))\n",
    " "
   ]
  }
 ],
 "metadata": {
  "kernelspec": {
   "display_name": "Python 3",
   "language": "python",
   "name": "python3"
  },
  "language_info": {
   "codemirror_mode": {
    "name": "ipython",
    "version": 3
   },
   "file_extension": ".py",
   "mimetype": "text/x-python",
   "name": "python",
   "nbconvert_exporter": "python",
   "pygments_lexer": "ipython3",
   "version": "3.7.4"
  }
 },
 "nbformat": 4,
 "nbformat_minor": 2
}
